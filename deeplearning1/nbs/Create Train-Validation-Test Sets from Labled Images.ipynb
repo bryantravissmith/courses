{
 "cells": [
  {
   "cell_type": "code",
   "execution_count": 1,
   "metadata": {
    "collapsed": false
   },
   "outputs": [
    {
     "name": "stdout",
     "output_type": "stream",
     "text": [
      "['cat.5303.jpg', 'cat.3715.jpg', 'cat.3301.jpg', 'cat.7418.jpg', 'cat.3593.jpg', 'cat.7769.jpg', 'cat.2282.jpg', 'cat.12432.jpg', 'cat.10506.jpg']\n"
     ]
    }
   ],
   "source": [
    "import os\n",
    "import re\n",
    "sub_dir = [x for x in os.walk(\"data/dogscats/train/\")]\n",
    "labels = [re.sub(r'[^a-z0-9]+', ' ', dir_name.lower()) for dir_name in sub_dir[0][1]]\n",
    "images = {}\n",
    "for i, lab in enumerate(labels):\n",
    "    images[lab] = {\n",
    "        'dir': os.path.abspath(sub_dir[i+1][0]),\n",
    "        'images': sub_dir[i+1][2]\n",
    "    }\n",
    "\n",
    "#Print first 10 images of the first label\n",
    "print(images[labels[0]]['images'][1:10])"
   ]
  },
  {
   "cell_type": "code",
   "execution_count": 3,
   "metadata": {
    "collapsed": false
   },
   "outputs": [
    {
     "data": {
      "text/plain": [
       "[0.14222791896930276,\n",
       " 0.3191536316212537,\n",
       " 0.8284764426088067,\n",
       " 0.3231362053985611,\n",
       " 0.3535057183616289,\n",
       " 0.8567337308580706,\n",
       " 0.08962918884775928,\n",
       " 0.6806448003697753,\n",
       " 0.8907745248882064,\n",
       " 0.6396378400894838]"
      ]
     },
     "execution_count": 3,
     "metadata": {},
     "output_type": "execute_result"
    }
   ],
   "source": [
    "import os\n",
    "import re\n",
    "import hashlib\n",
    "\n",
    "MAX_NUM_IMAGES_PER_CLASS = 2 ** 27 - 1\n",
    "\n",
    "def hash_filename_to_percentage(file_name, salt=''):\n",
    "    base_file = salt+os.path.basename(file_name)\n",
    "    hash_name = re.sub(r'_nohash_.*$', '', base_file)\n",
    "    hash_name_hashed = hashlib.sha1(hash_name.encode('utf-8')).hexdigest()\n",
    "    percentage_hash = ((int(hash_name_hashed, 16) %\n",
    "                          (MAX_NUM_IMAGES_PER_CLASS + 1)) *\n",
    "                         (1.0 / MAX_NUM_IMAGES_PER_CLASS))\n",
    "    return percentage_hash\n",
    "\n",
    "[hash_filename_to_percentage(x) for x in images[labels[0]]['images'][:10]]"
   ]
  },
  {
   "cell_type": "code",
   "execution_count": 4,
   "metadata": {
    "collapsed": false
   },
   "outputs": [],
   "source": [
    "import warnings\n",
    "import math\n",
    "\n",
    "def create_train_valid_test_split(filelist, train_percent=0.6, test_percent=0.2, valid_percent=0.2):\n",
    "    train = []\n",
    "    valid = []\n",
    "    test = []\n",
    "    assert(train_percent + test_percent <= 1)\n",
    "    if train_percent + test_percent + valid_percent != 1.0:\n",
    "        valid_percent = 1.0 - test_percent - train_percent\n",
    "        warnings.warn(\"sum not equal to 1 - valid_percent set to {}\".format(valid_percent))\n",
    "        \n",
    "    for file in filelist:\n",
    "        percentage = hash_filename_to_percentage(file)\n",
    "        if percentage < train_percent:\n",
    "            train.append(file)\n",
    "        elif percentage < train_percent + test_percent:\n",
    "            test.append(file)\n",
    "        else:\n",
    "            valid.append(file)\n",
    "    return train, valid, test\n",
    "\n",
    "trn, val, tst = create_train_valid_test_split(images[labels[0]])"
   ]
  },
  {
   "cell_type": "code",
   "execution_count": 8,
   "metadata": {
    "collapsed": false
   },
   "outputs": [],
   "source": [
    "data = {}\n",
    "for label, dictionary in images.items():\n",
    "    trn, val, tst = create_train_valid_test_split(dictionary['images'])\n",
    "    data[label] = {}\n",
    "    data[label]['path'] = dictionary['dir']\n",
    "    data[label]['train'] = trn\n",
    "    data[label]['test'] = tst\n",
    "    data[label]['valid'] = val"
   ]
  },
  {
   "cell_type": "code",
   "execution_count": 13,
   "metadata": {
    "collapsed": false
   },
   "outputs": [],
   "source": [
    "\n",
    "def move_data_to_train_valid_test_split(data, directory):\n",
    "    \n",
    "    for sub in ['','train/','test','valid']:\n",
    "        if not os.path.exists(directory+sub):\n",
    "            os.makedirs(directory+sub)\n",
    "            \n",
    "    for sub in ['train/','test','valid']:\n",
    "        for label in data.keys():\n",
    "            os.makedirs(directory+sub+label+\"/\")\n",
    "    \n",
    "move_data_to_train_valid_test_split(data, 'data/dogscats-split/') \n"
   ]
  },
  {
   "cell_type": "code",
   "execution_count": 9,
   "metadata": {
    "collapsed": false
   },
   "outputs": [
    {
     "data": {
      "text/plain": [
       "dict_keys(['cat', 'dog'])"
      ]
     },
     "execution_count": 9,
     "metadata": {},
     "output_type": "execute_result"
    }
   ],
   "source": [
    "data.keys()"
   ]
  },
  {
   "cell_type": "code",
   "execution_count": 11,
   "metadata": {
    "collapsed": true
   },
   "outputs": [],
   "source": [
    "extensions = ['jpg', 'jpeg', 'JPG', 'JPEG']"
   ]
  },
  {
   "cell_type": "code",
   "execution_count": 17,
   "metadata": {
    "collapsed": false
   },
   "outputs": [
    {
     "name": "stdout",
     "output_type": "stream",
     "text": [
      "cat.2015.jpg\n"
     ]
    }
   ],
   "source": [
    "tmp_file = os.path.basename(images[labels[0]][0])\n",
    "print(tmp_file)"
   ]
  },
  {
   "cell_type": "code",
   "execution_count": 18,
   "metadata": {
    "collapsed": false
   },
   "outputs": [
    {
     "name": "stdout",
     "output_type": "stream",
     "text": [
      "cat.2015.jpg\n"
     ]
    }
   ],
   "source": [
    "hash_name = re.sub(r'_nohash_.*$', '', tmp_file)\n",
    "print(hash_name)"
   ]
  },
  {
   "cell_type": "code",
   "execution_count": 21,
   "metadata": {
    "collapsed": false
   },
   "outputs": [
    {
     "name": "stdout",
     "output_type": "stream",
     "text": [
      "ec225a94b98cbc0054eca64c2e032e1cf9234864\n"
     ]
    }
   ],
   "source": [
    "import hashlib\n",
    "\n",
    "print(hash_name_hashed)"
   ]
  },
  {
   "cell_type": "code",
   "execution_count": 29,
   "metadata": {
    "collapsed": false
   },
   "outputs": [
    {
     "name": "stdout",
     "output_type": "stream",
     "text": [
      "0.14222791896930276\n"
     ]
    }
   ],
   "source": [
    "percentage_hash = ((int(hash_name_hashed, 16) %\n",
    "                          (MAX_NUM_IMAGES_PER_CLASS + 1)) *\n",
    "                         (1.0 / MAX_NUM_IMAGES_PER_CLASS))\n",
    "print(percentage_hash)"
   ]
  },
  {
   "cell_type": "code",
   "execution_count": 28,
   "metadata": {
    "collapsed": false
   },
   "outputs": [
    {
     "data": {
      "text/plain": [
       "0.14222791896930276"
      ]
     },
     "execution_count": 28,
     "metadata": {},
     "output_type": "execute_result"
    }
   ],
   "source": []
  },
  {
   "cell_type": "code",
   "execution_count": null,
   "metadata": {
    "collapsed": true
   },
   "outputs": [],
   "source": []
  }
 ],
 "metadata": {
  "kernelspec": {
   "display_name": "Python 3",
   "language": "python",
   "name": "python3"
  },
  "language_info": {
   "codemirror_mode": {
    "name": "ipython",
    "version": 3
   },
   "file_extension": ".py",
   "mimetype": "text/x-python",
   "name": "python",
   "nbconvert_exporter": "python",
   "pygments_lexer": "ipython3",
   "version": "3.6.0"
  }
 },
 "nbformat": 4,
 "nbformat_minor": 2
}
